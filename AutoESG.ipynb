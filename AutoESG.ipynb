{
 "cells": [
  {
   "cell_type": "markdown",
   "id": "247a97f1-d2c8-4dc1-91c3-4f3419cd9fff",
   "metadata": {
    "id": "247a97f1-d2c8-4dc1-91c3-4f3419cd9fff"
   },
   "source": [
    "# Automated Analysis of ESG Reports: Evaluating Compliance with ESRS Guidelines using Semantha\n",
    "\n",
    "In this notebook, we will explore a novel approach to analyzing Environmental, Social, and Governance (ESG) reports using our state-of-the-art natural language processing (NLP) platform semantha. Our focus will be on the application of European Sustainability Reporting Standard (ESRS), and how we can utilize NLP to assess the compliance of companies to these guidelines.\n",
    "\n",
    "ESG reports play a pivotal role in demonstrating a company's commitment to sustainable and socially responsible practices. However, evaluating these reports manually is a laborious and time-consuming task. Our tool facilitates this process by automatically analyzing the content and structure of these reports and assigning a coverage score for each one, based on how well they adhere to the ESRS guidelines.\n",
    "\n",
    "Our approach can be broken down into two major steps:\n",
    "\n",
    "1. Extracting relevant sections from the ESG reports and analyzing them against the ESRS guidelines. Each report receives a coverage score that signifies the level of its compliance with the guidelines.\n",
    "\n",
    "2. Analyzing these coverage scores on both an industry-wide and company-specific level. This step involves studying the evolution of reporting quality over time, identifying top-performing industries, and highlighting the strengths and weaknesses in individual companies' reporting. These are just examples and by no means capture all the insights semantha can give us.\n",
    "\n",
    "The following sections delve into these steps in detail.\n",
    "\n"
   ]
  },
  {
   "cell_type": "markdown",
   "id": "57004471-3019-41ea-96d6-1040d224235f",
   "metadata": {
    "id": "57004471-3019-41ea-96d6-1040d224235f"
   },
   "source": [
    "## 1. Computing Coverage Scores with Semantha\n",
    "\n",
    "Coverage scores are the backbone of our analysis and a key metric to evaluate the quality of ESG reporting. We computed these scores by comparing the content of each report with the ESRS guidelines. Higher coverage scores indicate a greater degree of alignment with the guidelines, and consequently, a more comprehensive and compliant ESG report.\n"
   ]
  },
  {
   "cell_type": "markdown",
   "id": "abbb41e2-b191-49ed-a743-60bd875b04ca",
   "metadata": {
    "id": "abbb41e2-b191-49ed-a743-60bd875b04ca"
   },
   "source": [
    "### 1.1 Loading the Corpus Data\n",
    "\n",
    "Before we can begin the analysis, we need to load our corpus of ESG reports. These reports have been collected and pre-processed into a structured format that's easy to work with.\n",
    "\n",
    "Let's go ahead and look at our corpus."
   ]
  },
  {
   "cell_type": "markdown",
   "metadata": {
    "id": "UTAh0y-AOmjR"
   },
   "source": [],
   "id": "UTAh0y-AOmjR"
  },
  {
   "cell_type": "code",
   "execution_count": null,
   "outputs": [],
   "source": [
    "import json\n",
    "\n",
    "#Provide path to config.json (see template config.json.tpl)\n",
    "config_file_path = \"config.json\"\n",
    "\n",
    "with open(config_file_path, \"r\") as config_json:\n",
    "  config = json.load(config_json)\n",
    "  server_url = config[\"server_url\"]\n",
    "  api_key = config[\"api_key\"]\n",
    "  semantha_domain = config[\"semantha_domain\"]"
   ],
   "metadata": {
    "collapsed": false
   },
   "id": "95c12fadd3672978"
  },
  {
   "cell_type": "code",
   "execution_count": null,
   "id": "08f674f3-b68d-41a0-bfc3-1d277f33589d",
   "metadata": {
    "colab": {
     "base_uri": "https://localhost:8080/",
     "height": 424
    },
    "executionInfo": {
     "elapsed": 240,
     "status": "ok",
     "timestamp": 1691066971742,
     "user": {
      "displayName": "Niko Dürr",
      "userId": "07170144528155979866"
     },
     "user_tz": -120
    },
    "id": "08f674f3-b68d-41a0-bfc3-1d277f33589d",
    "outputId": "92abdd87-a02d-41e6-fe47-2fdbfb49d67d"
   },
   "outputs": [],
   "source": [
    "import os\n",
    "import pandas as pd\n",
    "\n",
    "#Enter the corresponding market you'd like to check: Fortune100, FTSE, DAX40\n",
    "market=\"DAX40\"\n",
    "\n",
    "corpus = pd.read_csv(\"Auto ESG/\"+market+\"/corpus_\" + market + \".csv\")\n",
    "display(corpus[[\"File\", \"Company\", \"Sector\", \"Year\"]])"
   ]
  },
  {
   "cell_type": "markdown",
   "id": "75f65137-1885-4627-8974-056b3a4dcd7a",
   "metadata": {
    "id": "75f65137-1885-4627-8974-056b3a4dcd7a"
   },
   "source": [
    "Our corpus consists of ESG reports from various companies across different sectors and years. Each row in the dataset represents a separate ESG report, with columns providing details about the company, sector, and the year of the report.\n",
    "\n",
    "With our data now loaded, we can proceed to the next steps of our analysis.\n"
   ]
  },
  {
   "cell_type": "markdown",
   "id": "71d2fffe-a9e4-4818-bd14-45d679cd3520",
   "metadata": {
    "id": "71d2fffe-a9e4-4818-bd14-45d679cd3520"
   },
   "source": [
    "### 1.2 Matching the Corpus Against ESRS with the Semantha SDK\n",
    "\n",
    "In this next part of our analysis, we use our Semantha SDK to cross-reference the ESG reports in our corpus against the European Sustainability Reporting Standards (ESRS).\n",
    "This matching process is a fundamental part of our coverage scoring methodology.\n"
   ]
  },
  {
   "cell_type": "markdown",
   "id": "cd8c559b-1b64-45d5-9bc9-899624cb1dd8",
   "metadata": {
    "id": "cd8c559b-1b64-45d5-9bc9-899624cb1dd8"
   },
   "source": [
    "The first step is to install and import the semantha package"
   ]
  },
  {
   "cell_type": "code",
   "execution_count": null,
   "id": "9ef4294d-213d-497f-856f-c776013a0080",
   "metadata": {
    "colab": {
     "base_uri": "https://localhost:8080/"
    },
    "executionInfo": {
     "elapsed": 8937,
     "status": "ok",
     "timestamp": 1691067016647,
     "user": {
      "displayName": "Niko Dürr",
      "userId": "07170144528155979866"
     },
     "user_tz": -120
    },
    "id": "9ef4294d-213d-497f-856f-c776013a0080",
    "outputId": "cd20430c-edf9-4f63-9b26-4f8206a140fe"
   },
   "outputs": [],
   "source": [
    "%pip install semantha_sdk\n",
    "\n",
    "import semantha_sdk"
   ]
  },
  {
   "cell_type": "markdown",
   "id": "0113c9d3-c908-4c76-8b24-4b5b8b223411",
   "metadata": {
    "id": "0113c9d3-c908-4c76-8b24-4b5b8b223411"
   },
   "source": [
    "The functions defined beloware helper functions to retrieve library entries based on tags, get paragraph matches in a document, and retrieve library matches for a given tag."
   ]
  },
  {
   "cell_type": "code",
   "execution_count": null,
   "id": "e9cd3a7b-aa66-41e1-8dd9-94569caa7bbd",
   "metadata": {
    "id": "e9cd3a7b-aa66-41e1-8dd9-94569caa7bbd",
    "jupyter": {
     "source_hidden": true
    }
   },
   "outputs": [],
   "source": [
    "def get_library_entries_for_tag(tag):\n",
    "    return semantha.domains(domainname=semantha_domain).referencedocuments.get(\n",
    "            tags=tag, fields=\"id,name,contentpreview\"\n",
    "        ).data\n",
    "\n",
    "def get_paragraph_matches_of_doc(doc):\n",
    "    match_list = []\n",
    "    for page in doc.pages:\n",
    "        if page.contents is not None:\n",
    "            for content in page.contents:\n",
    "                if content.paragraphs is not None:\n",
    "                    for p in content.paragraphs:\n",
    "                        if p.references is not None and len(p.references) > 0:\n",
    "                            match_list.append((p, p.references))\n",
    "\n",
    "    return match_list\n",
    "\n",
    "def retrieve_library_matches_per_tag(tags, doc):\n",
    "    result_dict = {}\n",
    "    for t in tags:\n",
    "        matched = []\n",
    "        not_matched = []\n",
    "        doc_ids_of_paragraph_matches = set([i.document_id for x in get_paragraph_matches_of_doc(doc) for i in x[1]])\n",
    "        lib_entries_for_tag = get_library_entries_for_tag(t)\n",
    "        for entry in lib_entries_for_tag:\n",
    "            if entry.id in doc_ids_of_paragraph_matches:\n",
    "                matched.append(entry)\n",
    "            else:\n",
    "                not_matched.append(entry)\n",
    "        result_dict[t] = {\n",
    "            \"matched\": matched,\n",
    "            \"not_matched\": not_matched\n",
    "        }\n",
    "    return result_dict\n",
    "\n",
    "def compare_to_library(in_file, threshold):\n",
    "        return semantha.domains(domainname=semantha_domain).references.post(\n",
    "            file=in_file,\n",
    "            similaritythreshold=threshold,\n",
    "            maxreferences=1\n",
    "        )"
   ]
  },
  {
   "cell_type": "markdown",
   "id": "37d9741a-1f42-4052-9e31-3f8e78c714cf",
   "metadata": {
    "id": "37d9741a-1f42-4052-9e31-3f8e78c714cf"
   },
   "source": [
    "Next, we log in to the Semantha server and fetch the tags used for referencing in the ESG reports."
   ]
  },
  {
   "cell_type": "code",
   "execution_count": null,
   "id": "f256cf8c-e5ce-4218-9f02-5b3de69a6d35",
   "metadata": {
    "colab": {
     "base_uri": "https://localhost:8080/"
    },
    "executionInfo": {
     "elapsed": 1492,
     "status": "ok",
     "timestamp": 1691067029773,
     "user": {
      "displayName": "Niko Dürr",
      "userId": "07170144528155979866"
     },
     "user_tz": -120
    },
    "id": "f256cf8c-e5ce-4218-9f02-5b3de69a6d35",
    "outputId": "0d0e8791-3cc0-4819-9f19-1aeed9980814"
   },
   "outputs": [],
   "source": [
    "semantha = semantha_sdk.login(server_url=server_url, key=api_key)\n",
    "tags = semantha.domains(domainname=semantha_domain).tags.get()\n",
    "print(tags)"
   ]
  },
  {
   "cell_type": "markdown",
   "id": "cb058656-de1e-4091-a514-7a1e4f0cde68",
   "metadata": {
    "id": "cb058656-de1e-4091-a514-7a1e4f0cde68"
   },
   "source": [
    "Then, we iterate over the corpus of ESG reports. For each report, we use semantha to compare the report to the ESRS guidelines. We collect some metadata along with the number of matches for each tag. This collected information forms the base for our coverage score."
   ]
  },
  {
   "cell_type": "markdown",
   "id": "fff26841",
   "metadata": {
    "id": "fff26841"
   },
   "source": []
  },
  {
   "cell_type": "code",
   "execution_count": null,
   "id": "26046573-dca5-490f-8701-3bc78b099752",
   "metadata": {
    "id": "26046573-dca5-490f-8701-3bc78b099752",
    "outputId": "76c83610-901e-4c19-fe85-0364b4507cb5"
   },
   "outputs": [],
   "source": [
    "from tqdm import tqdm\n",
    "\n",
    "#Threshold of how specifid semantha should be: a good setting is .65 to .75\n",
    "THRESHOLD = 0.65\n",
    "\n",
    "matches = []\n",
    "for index, row in tqdm(corpus.iterrows(), total=len(corpus)):\n",
    "    try:\n",
    "        metadata = {\n",
    "            \"Company\": row.Company,\n",
    "            \"Sector\": row.Sector,\n",
    "            \"Year\": row.Year\n",
    "        }\n",
    "\n",
    "        file = open(os.path.join(\"Auto ESG/\" + market, row.File), \"rb\")\n",
    "        doc = compare_to_library(in_file=file, threshold=THRESHOLD)\n",
    "        print(\"Finished processing: \" + file.name)\n",
    "        num_matches = {\n",
    "            tag: len(reference_documents[\"matched\"]) for tag, reference_documents in retrieve_library_matches_per_tag(tags, doc).items()\n",
    "        }\n",
    "\n",
    "        matches.append(metadata | num_matches)\n",
    "        saveGame = pd.DataFrame(matches)\n",
    "        saveGame.to_excel(\"Auto ESG/\" + market + \"/_results/SaveGame_\" + market + \"_\" + str(index) + \"_\" + str(THRESHOLD) + \".xlsx\")\n",
    "\n",
    "    except FileNotFoundError:\n",
    "        print(f\"WARNING: {row.PDF_File} not found.\")\n",
    "        continue\n",
    "\n",
    "    # except TypeError:\n",
    "    #     print(f\"WARNING: {TypeError.__qualname__}\")\n",
    "    #     continue\n",
    "\n",
    "matches = pd.DataFrame(matches)\n",
    "matches.to_excel(\"Auto ESG/\" + market + \"/_results/matches_\" + market + \"_\" + str(THRESHOLD) + \".xlsx\")"
   ]
  },
  {
   "cell_type": "markdown",
   "id": "37bb78da-f33b-4bf5-b4c4-5153654ebc71",
   "metadata": {
    "id": "37bb78da-f33b-4bf5-b4c4-5153654ebc71"
   },
   "source": [
    "### 1.3 Computing Coverage Scores\n",
    "\n",
    "With the matches obtained in the previous step, we now compute the coverage scores for each ESG report. The coverage score is a key metric that represents how well a company's ESG report aligns with the ESRS guidelines."
   ]
  },
  {
   "cell_type": "code",
   "execution_count": null,
   "id": "7027ad6f-a927-4f07-b118-b2d3a3ca224a",
   "metadata": {
    "colab": {
     "base_uri": "https://localhost:8080/",
     "height": 800
    },
    "executionInfo": {
     "elapsed": 6484,
     "status": "ok",
     "timestamp": 1691067410019,
     "user": {
      "displayName": "Niko Dürr",
      "userId": "07170144528155979866"
     },
     "user_tz": -120
    },
    "id": "7027ad6f-a927-4f07-b118-b2d3a3ca224a",
    "outputId": "3167be70-103f-4ab4-999e-56ade3e0ad06"
   },
   "outputs": [],
   "source": [
    "matches_file = \"Auto ESG/\" + market + \"/_results/matches_\" + market + \"_\" + str(THRESHOLD) + \".xlsx\"\n",
    "\n",
    "scores = pd.read_excel(matches_file)\n",
    "\n",
    "num_guidelines_per_tag = pd.DataFrame(columns=tags, data=[\n",
    "    [len(semantha.domains(semantha_domain).referencedocuments.get(tags=tag, fields=\"id,name,contentpreview\").data) for tag in tags]\n",
    "])\n",
    "\n",
    "matches = pd.read_excel(matches_file)\n",
    "matches[\"Total Score\"] = matches[tags].sum(axis=1) / num_guidelines_per_tag.loc[0].sum()\n",
    "\n",
    "scores[tags] = scores[tags] / num_guidelines_per_tag.loc[0]\n",
    "\n",
    "scores[\"E\"] = scores[tags].filter(regex=\"^E\").mean(axis=1)  # TODO: should be in tags as well (Includes \"Sector\" column for S)\n",
    "scores[\"S\"] = scores[tags].filter(regex=\"^S\").mean(axis=1)\n",
    "scores[\"G\"] = scores[tags].filter(regex=\"^G\").mean(axis=1)\n",
    "\n",
    "scores[\"Total Score (Normalized)\"] = scores[[\"E\", \"S\", \"G\"]].mean(axis=1)\n",
    "scores[\"Total Score\"] = matches[\"Total Score\"]\n",
    "display(scores)\n",
    "\n",
    "scores.to_excel(\"Auto ESG/\" + market + \"/_results/scores_\" + market + \"_\" + str(THRESHOLD) + \".xlsx\")"
   ]
  },
  {
   "cell_type": "code",
   "execution_count": null,
   "id": "tkjdnV27dcAy",
   "metadata": {
    "colab": {
     "base_uri": "https://localhost:8080/",
     "height": 765
    },
    "executionInfo": {
     "elapsed": 263,
     "status": "ok",
     "timestamp": 1691067318120,
     "user": {
      "displayName": "Niko Dürr",
      "userId": "07170144528155979866"
     },
     "user_tz": -120
    },
    "id": "tkjdnV27dcAy",
    "outputId": "b6fb16a6-62d5-4f26-9a39-5ff34944d023"
   },
   "outputs": [],
   "source": [
    "matches"
   ]
  },
  {
   "cell_type": "code",
   "execution_count": null,
   "id": "766f017d-7e6e-441c-b394-5e0d0a2d4113",
   "metadata": {
    "id": "766f017d-7e6e-441c-b394-5e0d0a2d4113",
    "outputId": "d05ceb84-4c02-48e9-9118-11ff38ed59a3"
   },
   "outputs": [],
   "source": [
    "# Identify and drop rows with missing company or sector information\n",
    "missing_values = scores[scores['Company'].isna() | scores['Sector'].isna()].reset_index()\n",
    "display(missing_values)"
   ]
  },
  {
   "cell_type": "code",
   "execution_count": null,
   "id": "4686617e-94c3-49d8-8e20-ec22ba9e3554",
   "metadata": {
    "id": "4686617e-94c3-49d8-8e20-ec22ba9e3554",
    "outputId": "c2df1dc8-ff8a-43d8-af4a-ac02a2e042b5"
   },
   "outputs": [],
   "source": [
    "# Drop companies not in the fortune 100 as of 2022\n",
    "scores = scores.dropna(subset=['Company', 'Sector'])\n",
    "len(scores)"
   ]
  },
  {
   "cell_type": "markdown",
   "id": "f1b2d286-3116-4c1a-91a9-d9a3987d721d",
   "metadata": {
    "id": "f1b2d286-3116-4c1a-91a9-d9a3987d721d"
   },
   "source": [
    "## 2. Inter-Company Analyses\n",
    "\n",
    "Having computed the coverage scores, we can now turn our attention to the cross-company analysis. This part of our investigation aims to uncover patterns and trends in ESG reporting across various companies.\n",
    "\n",
    "In particular, we will explore questions such as:\n",
    "\n",
    "- How has the quality of reporting evolved over time?\n",
    "- Which sectors are leading in compliance with ESRS guidelines?\n",
    "- Are there specific components of ESG (Environmental, Social, Governance) where certain sectors excel?\n",
    "\n",
    "By exploring these questions, we aim to provide a broader perspective on the state of ESG reporting. Let's delve into this analysis.\n"
   ]
  },
  {
   "cell_type": "markdown",
   "id": "d7e22605-50ea-4944-9de8-b116b0525258",
   "metadata": {
    "id": "d7e22605-50ea-4944-9de8-b116b0525258"
   },
   "source": [
    "### 2.1 Tracking ESG Reporting Quality Over Time\n",
    "Let's commence our exploration by analyzing the temporal evolution of ESG reporting quality. This measure helps us understand how companies have adapted to the ESRS guidelines over time.\n",
    "\n",
    "In this section, we compute the yearly average of the total coverage scores, which reflects the average alignment of ESG reports with ESRS guidelines for each year."
   ]
  },
  {
   "cell_type": "code",
   "execution_count": null,
   "id": "b0536285-1262-4972-8096-fe794490e2b2",
   "metadata": {
    "id": "b0536285-1262-4972-8096-fe794490e2b2"
   },
   "outputs": [],
   "source": [
    "import matplotlib.pyplot as plt\n",
    "import seaborn as sns\n",
    "\n",
    "# Set the style of the plots\n",
    "sns.set_theme(style=\"whitegrid\")"
   ]
  },
  {
   "cell_type": "code",
   "execution_count": null,
   "id": "bb8f4781-ff8a-4e37-8dee-8b0df5e4fafb",
   "metadata": {
    "id": "bb8f4781-ff8a-4e37-8dee-8b0df5e4fafb",
    "outputId": "1c817cf6-3458-4a79-db54-80826001869e"
   },
   "outputs": [],
   "source": [
    "# Calculate yearly average of total matches\n",
    "yearly_performance = scores.groupby('Year')['Total Score'].mean().reset_index()\n",
    "\n",
    "# Create a line plot for average performance over time\n",
    "plt.figure(figsize=(12, 6))\n",
    "sns.lineplot(x='Year', y='Total Score', data=yearly_performance, marker='o')\n",
    "plt.title('Average ESG Reporting Matches Over Time', fontsize=15)\n",
    "plt.xlabel('Year', fontsize=12)\n",
    "plt.ylabel('Average Total Score', fontsize=12)\n",
    "plt.show()"
   ]
  },
  {
   "cell_type": "markdown",
   "id": "eed1e0e9-52d8-4b57-a8a4-141fcf5e8e8e",
   "metadata": {
    "id": "eed1e0e9-52d8-4b57-a8a4-141fcf5e8e8e"
   },
   "source": [
    "### 2.2 Comparing ESG Reporting Quality Across Sectors\n",
    "\n",
    "Next, we take a closer look at the performance of various industry sectors. Understanding sector performance can reveal industry-specific patterns and trends, providing further context to our analysis.\n",
    "\n",
    "In this step, we compute the average total coverage scores by sector. These scores are then visualized in a bar plot, allowing us to easily compare the ESG reporting quality across different sectors."
   ]
  },
  {
   "cell_type": "code",
   "execution_count": null,
   "id": "591828f9-648a-4c4c-a1c2-c0cb0a88caa6",
   "metadata": {
    "id": "591828f9-648a-4c4c-a1c2-c0cb0a88caa6",
    "outputId": "ee44a7da-4183-4448-c87e-861dfaa4398c"
   },
   "outputs": [],
   "source": [
    "# Calculate average performance by Sector\n",
    "sector_performance = scores.groupby('Sector')['Total Score'].mean().sort_values(ascending=False).reset_index()\n",
    "\n",
    "# Create a bar plot for average performance by Sector\n",
    "plt.figure(figsize=(12, 6))\n",
    "sns.barplot(x='Total Score', y='Sector', data=sector_performance, orient='h', palette='viridis')\n",
    "plt.title('Average ESG Reporting Matches by Sector', fontsize=15)\n",
    "plt.xlabel('Average Total Score', fontsize=12)\n",
    "plt.ylabel('Sector', fontsize=12)\n",
    "plt.show()"
   ]
  },
  {
   "cell_type": "markdown",
   "id": "7d551524-c809-43dd-b597-41d00630de33",
   "metadata": {
    "id": "7d551524-c809-43dd-b597-41d00630de33"
   },
   "source": [
    "The bar plot above displays the average total ESG reporting score across different sectors. Higher scores indicate better alignment with ESRS guidelines, meaning those sectors exhibit a higher quality of ESG reporting. This sectoral analysis allows us to identify industry leaders and those sectors that may require additional efforts to improve their reporting practices."
   ]
  },
  {
   "cell_type": "markdown",
   "id": "b654aeff-1b1b-4361-bd7e-bf4e3bb58094",
   "metadata": {
    "id": "b654aeff-1b1b-4361-bd7e-bf4e3bb58094"
   },
   "source": [
    "In addition to overall ESG reporting quality, it's valuable to examine sector performance across the individual ESG components: Environmental, Social, and Governance. This granular perspective allows us to identify which sectors excel in specific areas and where there might be room for improvement.\n",
    "\n",
    "Let's break down the average scores by sector for each ESG component and visualize the results.\n"
   ]
  },
  {
   "cell_type": "code",
   "execution_count": null,
   "id": "f91db1bb-d056-4b9a-8a0a-562416df36ff",
   "metadata": {
    "id": "f91db1bb-d056-4b9a-8a0a-562416df36ff",
    "outputId": "39dcddb6-d53d-4931-b849-a0b2e97772d8"
   },
   "outputs": [],
   "source": [
    "# Calculate average E, S, and G scores for each sector\n",
    "sector_performance_esg = scores.groupby('Sector')[['E', 'S', 'G']].mean()\n",
    "\n",
    "# Calculate the best ESG component for each sector\n",
    "sector_performance_esg['Best Component'] = sector_performance_esg[['E', 'S', 'G']].idxmax(axis=1)\n",
    "sector_performance_esg['Best Score'] = sector_performance_esg[['E', 'S', 'G']].max(axis=1)\n",
    "\n",
    "# Reset index to make 'Sector' a column\n",
    "sector_performance_esg.reset_index(inplace=True)\n",
    "\n",
    "# Sort sectors by their best score\n",
    "sector_performance_esg = sector_performance_esg.sort_values('Best Score', ascending=False)\n",
    "\n",
    "# Create a bar plot showing the best performing ESG component for each sector\n",
    "plt.figure(figsize=(12, 6))\n",
    "sns.barplot(x='Best Score', y='Sector', data=sector_performance_esg, hue='Best Component', dodge=False, palette='viridis')\n",
    "plt.title('Best Performing ESG Component by Sector', fontsize=15)\n",
    "plt.xlabel('Best ESG Score', fontsize=12)\n",
    "plt.ylabel('Sector', fontsize=12)\n",
    "plt.legend(title='Best Component')\n",
    "plt.show()\n"
   ]
  },
  {
   "cell_type": "markdown",
   "id": "ff3981a1-1075-4555-a019-736eb755c0a1",
   "metadata": {
    "id": "ff3981a1-1075-4555-a019-736eb755c0a1"
   },
   "source": [
    "The plot above highlights the best performing ESG component for each sector, denoted by color, along with the corresponding score. This representation provides a snapshot of where each sector shines the brightest in its ESG reporting practices."
   ]
  },
  {
   "cell_type": "markdown",
   "id": "edc0bbf5-1716-419f-ba4a-ee472014f399",
   "metadata": {
    "id": "edc0bbf5-1716-419f-ba4a-ee472014f399"
   },
   "source": [
    "### 2.3 Top and Low Performers in Each Sector\n",
    "\n",
    "Another insightful analysis involves identifying the companies with the highest and lowest ESG reporting scores within each sector. By comparing companies within the same sector, we get a clearer understanding of relative performance, taking into account the unique factors and challenges faced by companies operating in the same field.\n",
    "\n",
    "We'll identify the top and lowest performers in each sector and visualize the results using a double bar chart, with one bar for the top-performing company and another for the lowest-performing company in each sector.\n"
   ]
  },
  {
   "cell_type": "code",
   "execution_count": null,
   "id": "3a4e265f-2d23-4faf-9c44-ccdfb93c8538",
   "metadata": {
    "id": "3a4e265f-2d23-4faf-9c44-ccdfb93c8538",
    "outputId": "46259612-e810-421c-ab1e-80a8b3024add"
   },
   "outputs": [],
   "source": [
    "import numpy as np\n",
    "\n",
    "# Identify top and bottom performers in each sector\n",
    "top_performers_sector = scores.loc[scores.groupby('Sector')['Total Score'].idxmax()]\n",
    "low_performers_sector = scores.loc[scores.groupby('Sector')['Total Score'].idxmin()]\n",
    "\n",
    "# Merge the results into a single DataFrame\n",
    "performance_by_sector = pd.merge(top_performers_sector, low_performers_sector, on='Sector', suffixes=('_top', '_low'))\n",
    "\n",
    "# Create the bar chart\n",
    "plt.figure(figsize=(14, 8))\n",
    "barWidth = 0.25\n",
    "\n",
    "# Set position of bar on X axis\n",
    "r1 = np.arange(len(performance_by_sector))\n",
    "r2 = [x + barWidth for x in r1]\n",
    "\n",
    "# Make the plot\n",
    "bars1 = plt.bar(r1, performance_by_sector['Total Score_top'], color='g', width=barWidth, edgecolor='grey', label='Top Performers')\n",
    "bars2 = plt.bar(r2, performance_by_sector['Total Score_low'], color='r', width=barWidth, edgecolor='grey', label='Low Performers')\n",
    "\n",
    "# Add xticks on the middle of the group bars\n",
    "plt.xlabel('Sector', fontweight='bold', fontsize=12)\n",
    "plt.xticks([r + barWidth / 2 for r in range(len(performance_by_sector))], performance_by_sector['Sector'], rotation=90)\n",
    "plt.ylabel('Total Score', fontsize=12)\n",
    "\n",
    "plt.title('Top and Low ESG Reporting Performers by Sector', fontsize=15)\n",
    "plt.legend()\n",
    "\n",
    "# Add the names of the top performing companies\n",
    "for i, (top_company, low_company) in enumerate(zip(performance_by_sector['Company_top'], performance_by_sector['Company_low'])):\n",
    "    plt.text(r1[i], performance_by_sector['Total Score_top'].iloc[i] + 0.02, top_company, ha='center', va='bottom', rotation=90, fontsize=10, color='green')\n",
    "    plt.text(r2[i], performance_by_sector['Total Score_low'].iloc[i] + 0.02, low_company, ha='center', va='bottom', rotation=90, fontsize=10, color='red')\n",
    "\n",
    "plt.tight_layout()\n",
    "plt.show()\n"
   ]
  },
  {
   "cell_type": "markdown",
   "id": "49ff59b1-409e-4120-a5d4-5baa32a13f69",
   "metadata": {
    "id": "49ff59b1-409e-4120-a5d4-5baa32a13f69"
   },
   "source": [
    "The double bar chart above visualizes the ESG reporting scores of the top and lowest performers in each sector. We've annotated the bars with the names of the respective companies, the green labels correspond to the top performers while the red labels to the bottom performers. This chart gives us a comparative snapshot of the range of ESG reporting quality within each sector."
   ]
  },
  {
   "cell_type": "markdown",
   "id": "eb413730",
   "metadata": {
    "id": "eb413730"
   },
   "source": [
    "### 2.4 Top Performers in Each Sector\n",
    "This one is the \"show the good ones\". We won't blame companies where we could not get all information or the information is yet being provided by the companies we reached out to. Not every company has an easy to access ESG report, after all.\n",
    "\n",
    "We'll identify the top performers in each sector and visualize the results using a bar chart."
   ]
  },
  {
   "cell_type": "code",
   "execution_count": null,
   "id": "ef3362bc",
   "metadata": {
    "id": "ef3362bc",
    "outputId": "724744ba-c623-4c46-e6fd-2d344f7d625e"
   },
   "outputs": [],
   "source": [
    "import numpy as np\n",
    "\n",
    "# Identify top and bottom performers in each sector\n",
    "top_performers_sector = scores.loc[scores.groupby('Sector')['Total Score'].idxmax()]\n",
    "# low_performers_sector = scores.loc[scores.groupby('Sector')['Total Score'].idxmin()]\n",
    "\n",
    "# Merge the results into a single DataFrame\n",
    "# performance_by_sector = pd.merge(top_performers_sector, on='Sector', suffixes=('_top'))\n",
    "\n",
    "# Create the bar chart\n",
    "plt.figure(figsize=(14, 8))\n",
    "barWidth = 0.25\n",
    "\n",
    "# Set position of bar on X axis\n",
    "r1 = np.arange(len(performance_by_sector))\n",
    "r2 = [x + barWidth for x in r1]\n",
    "\n",
    "# Make the plot\n",
    "bars1 = plt.bar(r1, performance_by_sector['Total Score_top'], color='g', width=barWidth, edgecolor='grey', label='Top Performers')\n",
    "# bars2 = plt.bar(r2, performance_by_sector['Total Score_low'], color='r', width=barWidth, edgecolor='grey', label='Low Performers')\n",
    "\n",
    "# Add xticks on the middle of the group bars\n",
    "plt.xlabel('Sector', fontweight='bold', fontsize=12)\n",
    "plt.xticks([r + barWidth / 2 for r in range(len(performance_by_sector))], performance_by_sector['Sector'], rotation=90)\n",
    "plt.ylabel('Total Score', fontsize=12)\n",
    "\n",
    "plt.title('Top ESG Reporting Performers by Sector', fontsize=15)\n",
    "plt.legend()\n",
    "\n",
    "# Add the names of the top performing companies\n",
    "for i, (top_company, low_company) in enumerate(zip(performance_by_sector['Company_top'], performance_by_sector['Company_low'])):\n",
    "    plt.text(r1[i], performance_by_sector['Total Score_top'].iloc[i] + 0.02, top_company, ha='center', va='bottom', rotation=90, fontsize=10, color='green')\n",
    "    # plt.text(r2[i], performance_by_sector['Total Score_low'].iloc[i] + 0.02, low_company, ha='center', va='bottom', rotation=90, fontsize=10, color='red')\n",
    "\n",
    "plt.tight_layout()\n",
    "plt.show()"
   ]
  },
  {
   "cell_type": "markdown",
   "id": "86802108-f784-4870-9906-90caddf40603",
   "metadata": {
    "id": "86802108-f784-4870-9906-90caddf40603"
   },
   "source": [
    "## 3. Intra-Company Analyses\n",
    "\n",
    "Having gained insights into the broader landscape of ESG reporting across sectors and over time, we now narrow our focus to the company level. This section dives deeper into individual corporations' ESG reports to reveal their unique reporting strengths and weaknesses.\n",
    "\n",
    "By focusing on specific companies, we can discern patterns and trends that may be obscured in aggregate data. This analysis will help us understand:\n",
    "\n",
    "1. **Performance Over Time:** How has the company's ESG reporting quality evolved over the years?\n",
    "\n",
    "2. **Strengths and Areas of Improvement:** What are the primary ESG topics where a given company excels, and what areas could be better targeted for improvements?\n",
    "\n",
    "4. **ESG Landscape Visualization:** Can we use AI to generate an image that describes the company's ESG landscape, highlighting key areas of focus and potential gaps? (Spoiler: Yes)\n",
    "\n",
    "Let's proceed to explore the ESG reporting performance by fixing a company, let's choose Apple.\n"
   ]
  },
  {
   "cell_type": "code",
   "execution_count": null,
   "id": "10feec55-ca56-43ff-86ae-a524b5afa4c5",
   "metadata": {
    "id": "10feec55-ca56-43ff-86ae-a524b5afa4c5"
   },
   "outputs": [],
   "source": [
    "# Specify the company to analyze\n",
    "company_name = \"British American Tobacco\""
   ]
  },
  {
   "cell_type": "markdown",
   "id": "5d4b4264",
   "metadata": {
    "id": "5d4b4264"
   },
   "source": []
  },
  {
   "cell_type": "markdown",
   "id": "90061ad7-ff1e-4c32-bb97-409e80fa1105",
   "metadata": {
    "id": "90061ad7-ff1e-4c32-bb97-409e80fa1105"
   },
   "source": [
    "### 3.1 ESG Reporting Quality over Time\n",
    "\n",
    "In this analysis, we'll examine how a company's reporting quality for the three ESG pillars - Environmental, Social, and Governance - has evolved over time. To provide a concrete example, we'll focus on a specific company and track its reporting quality across the three dimensions in different years.\n",
    "\n",
    "By comparing the reporting quality for different aspects over time, we can identify potential trends, improvements, or areas where the company might need to put more emphasis.\n",
    "\n",
    "Let's pick a company (for instance, Company X) and display its ESG performance over time."
   ]
  },
  {
   "cell_type": "code",
   "execution_count": null,
   "id": "c0e44dce-f8cf-47ce-87dc-84da1b5fd660",
   "metadata": {
    "id": "c0e44dce-f8cf-47ce-87dc-84da1b5fd660",
    "outputId": "405bc226-2a73-4b5c-d1c0-3d137c5d930e"
   },
   "outputs": [],
   "source": [
    "# Select data for the chosen company\n",
    "company_data = scores[scores['Company'] == company_name]\n",
    "\n",
    "# Plot ESG components over time\n",
    "plt.figure(figsize=(10, 6))\n",
    "for component in [\"E\", \"S\", \"G\"]:\n",
    "    component_data = company_data.groupby('Year')[component].mean().reset_index()\n",
    "    plt.plot(component_data['Year'], component_data[component], label=component)\n",
    "\n",
    "plt.title(f'ESG Components Over Time for {company_name}', fontsize=15)\n",
    "plt.xlabel('Year', fontsize=12)\n",
    "plt.ylabel('Average Score', fontsize=12)\n",
    "plt.legend()\n",
    "plt.show()"
   ]
  },
  {
   "cell_type": "markdown",
   "id": "04742a23-55fa-411c-9c38-80bd7f644897",
   "metadata": {
    "id": "04742a23-55fa-411c-9c38-80bd7f644897"
   },
   "source": [
    "The plot above visualizes the evolution of the Environmental, Social, and Governance reporting quality for a given company over time. By comparing the individual component scores, we can better understand how the company's focus on each ESG dimension has evolved."
   ]
  },
  {
   "cell_type": "markdown",
   "id": "86803e53-8736-408b-810f-a74cf9e441b9",
   "metadata": {
    "id": "86803e53-8736-408b-810f-a74cf9e441b9"
   },
   "source": [
    "### 3.2 Analyizing Strengths and Areas for Improvement\n",
    "\n",
    "In order to gauge the performance of a company in specific ESG topics, we will take a closer look at their reporting in different areas. Our aim is to identify where the company excels - their 'Strengths', and which areas might require additional attention - their 'Areas for Improvement'. To do this, we will identify the top three and bottom three ESG topics for each company in terms of the match count with our reference library."
   ]
  },
  {
   "cell_type": "code",
   "execution_count": null,
   "id": "28db23ab-51e0-45d0-bef4-2090ae3ed78a",
   "metadata": {
    "id": "28db23ab-51e0-45d0-bef4-2090ae3ed78a",
    "outputId": "00ec5618-1b91-4943-c40f-7a58856d0bbb"
   },
   "outputs": [],
   "source": [
    "def get_strengths_weaknesses(company_name):\n",
    "    # TODO: Remove total from the considered columns\n",
    "    company_data = scores[scores['Company'] == company_name][tags]  # .select_dtypes(include='int64') # Select only numeric columns\n",
    "    strengths = company_data.iloc[0].nlargest(3)\n",
    "    weaknesses = company_data.iloc[0].nsmallest(3)\n",
    "    return strengths, weaknesses\n",
    "\n",
    "# Get strengths and weaknesses for Apple\n",
    "top_strengths, top_weaknesses = get_strengths_weaknesses(company_name)\n",
    "\n",
    "# Apple - Strengths\n",
    "plt.figure(figsize=(12, 6))\n",
    "top_strengths.plot(kind='barh', color='green', alpha=0.6)\n",
    "plt.title(f'{company_name} - Strengths in ESG Reporting', fontsize=15)\n",
    "plt.xlabel('Number of Matches', fontsize=12)\n",
    "plt.ylabel('ESG Report Sections', fontsize=12)\n",
    "plt.gca().invert_yaxis()  # Reverse the order of the y-axis for better readability\n",
    "plt.show()\n",
    "\n",
    "# Apple - Areas for Improvement\n",
    "plt.figure(figsize=(12, 6))\n",
    "top_weaknesses.plot(kind='barh', color='red', alpha=0.6)\n",
    "plt.title(f'{company_name} - Areas for Improvement in ESG Reporting', fontsize=15)\n",
    "plt.xlabel('Number of Matches', fontsize=12)\n",
    "plt.ylabel('ESG Report Sections', fontsize=12)\n",
    "plt.gca().invert_yaxis()  # Reverse the order of the y-axis for better readability\n",
    "plt.show()"
   ]
  },
  {
   "cell_type": "markdown",
   "id": "11b1dde9-50c9-4f40-9bf2-328aa57d9817",
   "metadata": {
    "id": "11b1dde9-50c9-4f40-9bf2-328aa57d9817"
   },
   "source": [
    "These visualizations provide a clear perspective on a company's strengths and areas for improvement in ESG reporting, thus informing their strategic decision-making in addressing these gaps."
   ]
  },
  {
   "cell_type": "markdown",
   "id": "cbfb8629-85e5-4273-ba22-db0b3a897119",
   "metadata": {
    "id": "cbfb8629-85e5-4273-ba22-db0b3a897119"
   },
   "source": [
    "### 3.3 ESG Landscape Visualization\n",
    "\n",
    "This final section of our analysis aims to provide an image-based representation of each company's performance in the ESG categories. We will generate an image for each company that includes the letters E, S, and G if the company's score for the respective category exceeds a predefined threshold.\n",
    "\n",
    "The resulting visual representation can provide a quick and easily understandable summary of a company's ESG performance."
   ]
  },
  {
   "cell_type": "code",
   "execution_count": null,
   "id": "ab3416c6-7c9f-4e22-97ec-e8de31f9716a",
   "metadata": {
    "id": "ab3416c6-7c9f-4e22-97ec-e8de31f9716a",
    "outputId": "8f5a4ffe-69ac-40a3-f1b2-18db5dbb966c"
   },
   "outputs": [],
   "source": [
    "import matplotlib.image as mpimg\n",
    "import glob\n",
    "\n",
    "def display_esg_image(company_name, threshold=0.1):\n",
    "    company_data = scores[scores['Company'] == company_name][[\"E\", \"S\", \"G\"]].iloc[0]\n",
    "    esg_str = ''\n",
    "    for letter, score in company_data.items():\n",
    "        if score > threshold:\n",
    "            esg_str += letter\n",
    "\n",
    "    # If no letters are added, use '-'\n",
    "    if esg_str == '':\n",
    "        esg_str = '-'\n",
    "\n",
    "    # Find the first image in the folder\n",
    "    image_folder = os.path.join('Auto ESG/images', esg_str)\n",
    "    image_files = glob.glob(os.path.join(image_folder, '*.png'))  # Assuming the images are in PNG format\n",
    "    if not image_files:  # If the list is empty\n",
    "        print(f\"No images found in folder {image_folder}\")\n",
    "        return\n",
    "\n",
    "    img_path = image_files[0]  # Use the first image\n",
    "    img = mpimg.imread(img_path)\n",
    "\n",
    "    # Display the image\n",
    "    plt.figure(figsize=(10, 10))\n",
    "    plt.imshow(img)\n",
    "    plt.axis('off')  # Remove axis\n",
    "    plt.title(f'{company_name} ESG Landscape', fontsize=20)\n",
    "    plt.show()\n",
    "\n",
    "# Test the function\n",
    "display_esg_image(company_name)\n"
   ]
  },
  {
   "cell_type": "markdown",
   "id": "34227ce3-ae14-4ec8-be03-1835c62fb17a",
   "metadata": {
    "id": "34227ce3-ae14-4ec8-be03-1835c62fb17a"
   },
   "source": [
    "## Conclusion\n",
    "\n",
    "The analysis we have performed using the `semantha_sdk` has provided valuable insights into the ESG reporting quality of different companies across various sectors. It's clear that the quality of ESG reporting varies widely among companies and sectors, and that there are specific areas where certain sectors excel.\n",
    "\n",
    "We've seen how some sectors have consistently strong performance in ESG reporting while others have room for improvement. The trends over time have shown us how the importance of ESG factors has grown and how companies have adapted to meet these changing expectations.\n",
    "\n",
    "On an individual company level, we have identified strengths and potential areas of improvement within their ESG reporting. This information can be leveraged to improve future reports and enhance their ESG performance.\n",
    "\n",
    "The image generation section presented an innovative way to visually represent a company's ESG performance, providing a quick and intuitive understanding of their achievements in each of the ESG components.\n",
    "\n",
    "This detailed, data-driven approach can help stakeholders make more informed decisions and help companies identify areas where they can make positive changes. As we move towards a future where sustainability and corporate responsibility are increasingly valued, this kind of analysis will be essential for assessing and driving ESG performance.\n",
    "\n",
    "Thank you for joining us on this deep dive into ESG report analysis. We're looking forward to seeing how these insights will drive the future of ESG reporting and performance.\n"
   ]
  },
  {
   "cell_type": "code",
   "execution_count": null,
   "outputs": [],
   "source": [],
   "metadata": {
    "collapsed": false
   },
   "id": "9c65a09a71fb650f"
  }
 ],
 "metadata": {
  "colab": {
   "provenance": []
  },
  "kernelspec": {
   "display_name": "Python 3 (ipykernel)",
   "language": "python",
   "name": "python3"
  },
  "language_info": {
   "codemirror_mode": {
    "name": "ipython",
    "version": 3
   },
   "file_extension": ".py",
   "mimetype": "text/x-python",
   "name": "python",
   "nbconvert_exporter": "python",
   "pygments_lexer": "ipython3",
   "version": "3.11.5"
  }
 },
 "nbformat": 4,
 "nbformat_minor": 5
}
